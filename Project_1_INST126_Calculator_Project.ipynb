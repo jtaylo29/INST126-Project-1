{
 "cells": [
  {
   "cell_type": "code",
   "execution_count": 2,
   "metadata": {},
   "outputs": [
    {
     "name": "stdout",
     "output_type": "stream",
     "text": [
      "Please choose from the below options\n",
      "1. Addition\n",
      "2. Subtraction\n",
      "3. Multiplication\n",
      "4. Divison\n",
      "5. Exponentiation\n",
      "5\n",
      "Enter two numbers(First^Second)\n",
      "6\n",
      "3\n",
      "Your answer after dividing given numbers is  216.0\n"
     ]
    }
   ],
   "source": [
    "#Ask user to choose an operation of Addition, Subtraction, Multiplication, Division, or Exponentation\n",
    "print(\"Please choose from the below options\\n1. Addition\\n2. Subtraction\\n3. Multiplication\\n4. Divison\\n5. Exponentiation\")\n",
    "a = int(input())\n",
    "#Create conditional statement for when user chooses Addition, user enters three numbers\n",
    "if a == 1:\n",
    "    print(\"Enter three numbers\")\n",
    "    num1 = float(input())\n",
    "    num2 = float(input())\n",
    "    num3 = float(input())\n",
    "    print(\"Your answer after adding given numbers is \", num1+num2+num3)\n",
    "##Create conditional statement for when user chooses Subtraction, user enters three numbers\n",
    "elif a == 2:\n",
    "    print(\"Enter three numbers(First - Second - Third)\")\n",
    "    num1 = float(input())\n",
    "    num2 = float(input())\n",
    "    num3 = float(input())\n",
    "    print(\"Your answer after subtraction is \", num1-num2-num3)\n",
    "#Create conditional statement for when user chooses Multiplication, user enters three numbers\n",
    "elif a == 3:\n",
    "    print(\"Enter three numbers\")\n",
    "    num1 = float(input())\n",
    "    num2 = float(input())\n",
    "    num3 = float(input())\n",
    "    print(\"Your answer after multiplying given numbers is \", num1*num2*num3)\n",
    "#Create conditional statement for when user chooses Division, user enters three numbers\n",
    "elif a == 4:\n",
    "    print(\"Enter three numbers(First/Second/Third)\")\n",
    "    num1 = float(input())\n",
    "    num2 = float(input())\n",
    "    num3 = float(input())\n",
    "    print(\"Your answer after dividing given numbers is \", num1/num2/num3)\n",
    "#Create conditional statement for when user chooses Exponentiation, user enters two numbers\n",
    "elif a == 5:\n",
    "    print(\"Enter two numbers(First^Second)\")\n",
    "    num1 = float(input())\n",
    "    num2 = float(input())\n",
    "    print(\"Your answer after dividing given numbers is \", num1**num2)\n",
    "#Create statement for when user enters an invalid option\n",
    "else:\n",
    "    print(\"Error: You entered an invalid option\")"
   ]
  }
 ],
 "metadata": {
  "kernelspec": {
   "display_name": "Python 3",
   "language": "python",
   "name": "python3"
  },
  "language_info": {
   "codemirror_mode": {
    "name": "ipython",
    "version": 3
   },
   "file_extension": ".py",
   "mimetype": "text/x-python",
   "name": "python",
   "nbconvert_exporter": "python",
   "pygments_lexer": "ipython3",
   "version": "3.8.6"
  }
 },
 "nbformat": 4,
 "nbformat_minor": 4
}
